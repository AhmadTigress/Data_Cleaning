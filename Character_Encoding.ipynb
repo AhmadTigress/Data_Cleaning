{
  "nbformat": 4,
  "nbformat_minor": 0,
  "metadata": {
    "colab": {
      "provenance": []
    },
    "kernelspec": {
      "name": "python3",
      "display_name": "Python 3"
    },
    "language_info": {
      "name": "python"
    }
  },
  "cells": [
    {
      "cell_type": "code",
      "execution_count": null,
      "metadata": {
        "id": "lpKZIcj0Km-t"
      },
      "outputs": [],
      "source": [
        "import pandas as pd\n",
        "import numpy as np\n",
        "\n",
        "# Helpful character module\n",
        "import charset_normalizer\n",
        "\n",
        "# Set seed for reproducibility\n",
        "np.random.seed(0)"
      ]
    },
    {
      "cell_type": "code",
      "source": [
        "# Start with a string\n",
        "before = \"This is the euro symbol: |\\?`\"\n",
        "type(before)"
      ],
      "metadata": {
        "colab": {
          "base_uri": "https://localhost:8080/"
        },
        "id": "69TS7a1D_-VV",
        "outputId": "a63c70fb-1deb-49b0-f9f2-d31307818812"
      },
      "execution_count": null,
      "outputs": [
        {
          "output_type": "execute_result",
          "data": {
            "text/plain": [
              "str"
            ]
          },
          "metadata": {},
          "execution_count": 2
        }
      ]
    },
    {
      "cell_type": "code",
      "source": [
        "# Encode to a different encoding, replace characters that raise errors\n",
        "after = before.encode(\"utf-8\", errors=\"replace\")\n",
        "type(after)"
      ],
      "metadata": {
        "colab": {
          "base_uri": "https://localhost:8080/"
        },
        "id": "iqEVpzR3AXF1",
        "outputId": "a1856276-d58a-4351-e1b6-287b449a2656"
      },
      "execution_count": null,
      "outputs": [
        {
          "output_type": "execute_result",
          "data": {
            "text/plain": [
              "bytes"
            ]
          },
          "metadata": {},
          "execution_count": 3
        }
      ]
    },
    {
      "cell_type": "code",
      "source": [
        "after"
      ],
      "metadata": {
        "id": "C_M6Rur3A7qP",
        "colab": {
          "base_uri": "https://localhost:8080/"
        },
        "outputId": "eda1842d-f207-49a8-e2f5-f508deea8a94"
      },
      "execution_count": null,
      "outputs": [
        {
          "output_type": "execute_result",
          "data": {
            "text/plain": [
              "b'This is the euro symbol: |\\\\?`'"
            ]
          },
          "metadata": {},
          "execution_count": 4
        }
      ]
    },
    {
      "cell_type": "code",
      "source": [
        "before"
      ],
      "metadata": {
        "colab": {
          "base_uri": "https://localhost:8080/",
          "height": 36
        },
        "id": "wJQ_Q0U_fS35",
        "outputId": "acc76681-5ff6-4045-baa7-8d982335fc42"
      },
      "execution_count": null,
      "outputs": [
        {
          "output_type": "execute_result",
          "data": {
            "text/plain": [
              "'This is the euro symbol: |\\\\?`'"
            ],
            "application/vnd.google.colaboratory.intrinsic+json": {
              "type": "string"
            }
          },
          "metadata": {},
          "execution_count": 5
        }
      ]
    },
    {
      "cell_type": "code",
      "source": [
        "print(after.decode(\"utf-8\"))"
      ],
      "metadata": {
        "colab": {
          "base_uri": "https://localhost:8080/"
        },
        "id": "IoP82AFVfZEB",
        "outputId": "3ad65c0b-ff16-46b8-81c9-c397596acd3a"
      },
      "execution_count": null,
      "outputs": [
        {
          "output_type": "stream",
          "name": "stdout",
          "text": [
            "This is the euro symbol: |\\?`\n"
          ]
        }
      ]
    },
    {
      "cell_type": "code",
      "source": [
        "# Try to decode our byte with ascii encoding\n",
        "print(after.decode(\"ascii\"))"
      ],
      "metadata": {
        "colab": {
          "base_uri": "https://localhost:8080/"
        },
        "id": "A918G_Z9ftpE",
        "outputId": "363e876a-6c19-4701-e9a7-ff5d51927f5c"
      },
      "execution_count": null,
      "outputs": [
        {
          "output_type": "stream",
          "name": "stdout",
          "text": [
            "This is the euro symbol: |\\?`\n"
          ]
        }
      ]
    },
    {
      "cell_type": "code",
      "source": [
        "# start with a string\n",
        "before = \"This is the euro symbol: $\"\n",
        "\n",
        "# Encode it to a different encoding, replacing characters that raise errors\n",
        "after = before.encode(\"ascii\", errors=\"replace\")\n",
        "\n",
        "# Convert it back to utf-8\n",
        "print(after.decode(\"ascii\"))\n",
        "\n",
        "# We have lost the original underlying byte string! It's been\n",
        "# replaced with the underlying byte string for the unknown character :("
      ],
      "metadata": {
        "colab": {
          "base_uri": "https://localhost:8080/"
        },
        "id": "0nBnTab_gjGP",
        "outputId": "5fd63e65-29ef-4630-a42e-87d379f31e7a"
      },
      "execution_count": null,
      "outputs": [
        {
          "output_type": "stream",
          "name": "stdout",
          "text": [
            "This is the euro symbol: $\n"
          ]
        }
      ]
    },
    {
      "cell_type": "code",
      "source": [
        "kickstarter_2016 = pd.read_csv(\"/content/kickstarter_projects.csv\")"
      ],
      "metadata": {
        "id": "mlJEDbmglzOW"
      },
      "execution_count": null,
      "outputs": []
    },
    {
      "cell_type": "code",
      "source": [
        "# Look at the first ten thousand bytes to guess the character encoding\n",
        "with open(\"/content/kickstarter_projects.csv\", 'rb') as rawdata:\n",
        "  result = charset_normalizer.detect(rawdata.read(10000))\n",
        "\n",
        "# Check what the character encoding might be\n",
        "print(result)"
      ],
      "metadata": {
        "id": "P8Wkn0mOuwhv",
        "colab": {
          "base_uri": "https://localhost:8080/"
        },
        "outputId": "0604e5b8-00cd-4d86-a425-bce8869f89fe"
      },
      "execution_count": null,
      "outputs": [
        {
          "output_type": "stream",
          "name": "stdout",
          "text": [
            "{'encoding': 'utf-8', 'language': 'English', 'confidence': 0.9986}\n"
          ]
        }
      ]
    },
    {
      "cell_type": "code",
      "source": [
        "# Read in the file with the encoding detected by charset_normalizer\n",
        "kickstarter_2016 = pd.read_csv(\"/content/kickstarter_projects.csv\", encoding='utf-8')\n",
        "\n",
        "# Look at the first few line\n",
        "kickstarter_2016.head()"
      ],
      "metadata": {
        "colab": {
          "base_uri": "https://localhost:8080/",
          "height": 206
        },
        "id": "St05TPs8NRF3",
        "outputId": "78393a0c-6e0c-41ba-c416-6dafb242a1fb"
      },
      "execution_count": null,
      "outputs": [
        {
          "output_type": "execute_result",
          "data": {
            "text/plain": [
              "           ID                                               Name  \\\n",
              "0  1860890148  Grace Jones Does Not Give A F$#% T-Shirt (limi...   \n",
              "1   709707365                     CRYSTAL ANTLERS UNTITLED MOVIE   \n",
              "2  1703704063                                drawing for dollars   \n",
              "3      727286                       Offline Wikipedia iPhone app   \n",
              "4  1622952265                                         Pantshirts   \n",
              "\n",
              "       Category   Subcategory        Country             Launched    Deadline  \\\n",
              "0       Fashion       Fashion  United States  2009-04-21 21:02:48  2009-05-31   \n",
              "1  Film & Video        Shorts  United States  2009-04-23 00:07:53  2009-07-20   \n",
              "2           Art  Illustration  United States  2009-04-24 21:52:03  2009-05-03   \n",
              "3    Technology      Software  United States  2009-04-25 17:36:21  2009-07-14   \n",
              "4       Fashion       Fashion  United States  2009-04-27 14:10:39  2009-05-26   \n",
              "\n",
              "    Goal  Pledged  Backers       State  \n",
              "0   1000      625       30      Failed  \n",
              "1  80000       22        3      Failed  \n",
              "2     20       35        3  Successful  \n",
              "3     99      145       25  Successful  \n",
              "4   1900      387       10      Failed  "
            ],
            "text/html": [
              "\n",
              "  <div id=\"df-36d61636-a213-48a1-a10e-2feb9ddecdaa\" class=\"colab-df-container\">\n",
              "    <div>\n",
              "<style scoped>\n",
              "    .dataframe tbody tr th:only-of-type {\n",
              "        vertical-align: middle;\n",
              "    }\n",
              "\n",
              "    .dataframe tbody tr th {\n",
              "        vertical-align: top;\n",
              "    }\n",
              "\n",
              "    .dataframe thead th {\n",
              "        text-align: right;\n",
              "    }\n",
              "</style>\n",
              "<table border=\"1\" class=\"dataframe\">\n",
              "  <thead>\n",
              "    <tr style=\"text-align: right;\">\n",
              "      <th></th>\n",
              "      <th>ID</th>\n",
              "      <th>Name</th>\n",
              "      <th>Category</th>\n",
              "      <th>Subcategory</th>\n",
              "      <th>Country</th>\n",
              "      <th>Launched</th>\n",
              "      <th>Deadline</th>\n",
              "      <th>Goal</th>\n",
              "      <th>Pledged</th>\n",
              "      <th>Backers</th>\n",
              "      <th>State</th>\n",
              "    </tr>\n",
              "  </thead>\n",
              "  <tbody>\n",
              "    <tr>\n",
              "      <th>0</th>\n",
              "      <td>1860890148</td>\n",
              "      <td>Grace Jones Does Not Give A F$#% T-Shirt (limi...</td>\n",
              "      <td>Fashion</td>\n",
              "      <td>Fashion</td>\n",
              "      <td>United States</td>\n",
              "      <td>2009-04-21 21:02:48</td>\n",
              "      <td>2009-05-31</td>\n",
              "      <td>1000</td>\n",
              "      <td>625</td>\n",
              "      <td>30</td>\n",
              "      <td>Failed</td>\n",
              "    </tr>\n",
              "    <tr>\n",
              "      <th>1</th>\n",
              "      <td>709707365</td>\n",
              "      <td>CRYSTAL ANTLERS UNTITLED MOVIE</td>\n",
              "      <td>Film &amp; Video</td>\n",
              "      <td>Shorts</td>\n",
              "      <td>United States</td>\n",
              "      <td>2009-04-23 00:07:53</td>\n",
              "      <td>2009-07-20</td>\n",
              "      <td>80000</td>\n",
              "      <td>22</td>\n",
              "      <td>3</td>\n",
              "      <td>Failed</td>\n",
              "    </tr>\n",
              "    <tr>\n",
              "      <th>2</th>\n",
              "      <td>1703704063</td>\n",
              "      <td>drawing for dollars</td>\n",
              "      <td>Art</td>\n",
              "      <td>Illustration</td>\n",
              "      <td>United States</td>\n",
              "      <td>2009-04-24 21:52:03</td>\n",
              "      <td>2009-05-03</td>\n",
              "      <td>20</td>\n",
              "      <td>35</td>\n",
              "      <td>3</td>\n",
              "      <td>Successful</td>\n",
              "    </tr>\n",
              "    <tr>\n",
              "      <th>3</th>\n",
              "      <td>727286</td>\n",
              "      <td>Offline Wikipedia iPhone app</td>\n",
              "      <td>Technology</td>\n",
              "      <td>Software</td>\n",
              "      <td>United States</td>\n",
              "      <td>2009-04-25 17:36:21</td>\n",
              "      <td>2009-07-14</td>\n",
              "      <td>99</td>\n",
              "      <td>145</td>\n",
              "      <td>25</td>\n",
              "      <td>Successful</td>\n",
              "    </tr>\n",
              "    <tr>\n",
              "      <th>4</th>\n",
              "      <td>1622952265</td>\n",
              "      <td>Pantshirts</td>\n",
              "      <td>Fashion</td>\n",
              "      <td>Fashion</td>\n",
              "      <td>United States</td>\n",
              "      <td>2009-04-27 14:10:39</td>\n",
              "      <td>2009-05-26</td>\n",
              "      <td>1900</td>\n",
              "      <td>387</td>\n",
              "      <td>10</td>\n",
              "      <td>Failed</td>\n",
              "    </tr>\n",
              "  </tbody>\n",
              "</table>\n",
              "</div>\n",
              "    <div class=\"colab-df-buttons\">\n",
              "\n",
              "  <div class=\"colab-df-container\">\n",
              "    <button class=\"colab-df-convert\" onclick=\"convertToInteractive('df-36d61636-a213-48a1-a10e-2feb9ddecdaa')\"\n",
              "            title=\"Convert this dataframe to an interactive table.\"\n",
              "            style=\"display:none;\">\n",
              "\n",
              "  <svg xmlns=\"http://www.w3.org/2000/svg\" height=\"24px\" viewBox=\"0 -960 960 960\">\n",
              "    <path d=\"M120-120v-720h720v720H120Zm60-500h600v-160H180v160Zm220 220h160v-160H400v160Zm0 220h160v-160H400v160ZM180-400h160v-160H180v160Zm440 0h160v-160H620v160ZM180-180h160v-160H180v160Zm440 0h160v-160H620v160Z\"/>\n",
              "  </svg>\n",
              "    </button>\n",
              "\n",
              "  <style>\n",
              "    .colab-df-container {\n",
              "      display:flex;\n",
              "      gap: 12px;\n",
              "    }\n",
              "\n",
              "    .colab-df-convert {\n",
              "      background-color: #E8F0FE;\n",
              "      border: none;\n",
              "      border-radius: 50%;\n",
              "      cursor: pointer;\n",
              "      display: none;\n",
              "      fill: #1967D2;\n",
              "      height: 32px;\n",
              "      padding: 0 0 0 0;\n",
              "      width: 32px;\n",
              "    }\n",
              "\n",
              "    .colab-df-convert:hover {\n",
              "      background-color: #E2EBFA;\n",
              "      box-shadow: 0px 1px 2px rgba(60, 64, 67, 0.3), 0px 1px 3px 1px rgba(60, 64, 67, 0.15);\n",
              "      fill: #174EA6;\n",
              "    }\n",
              "\n",
              "    .colab-df-buttons div {\n",
              "      margin-bottom: 4px;\n",
              "    }\n",
              "\n",
              "    [theme=dark] .colab-df-convert {\n",
              "      background-color: #3B4455;\n",
              "      fill: #D2E3FC;\n",
              "    }\n",
              "\n",
              "    [theme=dark] .colab-df-convert:hover {\n",
              "      background-color: #434B5C;\n",
              "      box-shadow: 0px 1px 3px 1px rgba(0, 0, 0, 0.15);\n",
              "      filter: drop-shadow(0px 1px 2px rgba(0, 0, 0, 0.3));\n",
              "      fill: #FFFFFF;\n",
              "    }\n",
              "  </style>\n",
              "\n",
              "    <script>\n",
              "      const buttonEl =\n",
              "        document.querySelector('#df-36d61636-a213-48a1-a10e-2feb9ddecdaa button.colab-df-convert');\n",
              "      buttonEl.style.display =\n",
              "        google.colab.kernel.accessAllowed ? 'block' : 'none';\n",
              "\n",
              "      async function convertToInteractive(key) {\n",
              "        const element = document.querySelector('#df-36d61636-a213-48a1-a10e-2feb9ddecdaa');\n",
              "        const dataTable =\n",
              "          await google.colab.kernel.invokeFunction('convertToInteractive',\n",
              "                                                    [key], {});\n",
              "        if (!dataTable) return;\n",
              "\n",
              "        const docLinkHtml = 'Like what you see? Visit the ' +\n",
              "          '<a target=\"_blank\" href=https://colab.research.google.com/notebooks/data_table.ipynb>data table notebook</a>'\n",
              "          + ' to learn more about interactive tables.';\n",
              "        element.innerHTML = '';\n",
              "        dataTable['output_type'] = 'display_data';\n",
              "        await google.colab.output.renderOutput(dataTable, element);\n",
              "        const docLink = document.createElement('div');\n",
              "        docLink.innerHTML = docLinkHtml;\n",
              "        element.appendChild(docLink);\n",
              "      }\n",
              "    </script>\n",
              "  </div>\n",
              "\n",
              "\n",
              "<div id=\"df-6e2805cd-f062-4543-bb60-f7b1b5a6a34e\">\n",
              "  <button class=\"colab-df-quickchart\" onclick=\"quickchart('df-6e2805cd-f062-4543-bb60-f7b1b5a6a34e')\"\n",
              "            title=\"Suggest charts\"\n",
              "            style=\"display:none;\">\n",
              "\n",
              "<svg xmlns=\"http://www.w3.org/2000/svg\" height=\"24px\"viewBox=\"0 0 24 24\"\n",
              "     width=\"24px\">\n",
              "    <g>\n",
              "        <path d=\"M19 3H5c-1.1 0-2 .9-2 2v14c0 1.1.9 2 2 2h14c1.1 0 2-.9 2-2V5c0-1.1-.9-2-2-2zM9 17H7v-7h2v7zm4 0h-2V7h2v10zm4 0h-2v-4h2v4z\"/>\n",
              "    </g>\n",
              "</svg>\n",
              "  </button>\n",
              "\n",
              "<style>\n",
              "  .colab-df-quickchart {\n",
              "      --bg-color: #E8F0FE;\n",
              "      --fill-color: #1967D2;\n",
              "      --hover-bg-color: #E2EBFA;\n",
              "      --hover-fill-color: #174EA6;\n",
              "      --disabled-fill-color: #AAA;\n",
              "      --disabled-bg-color: #DDD;\n",
              "  }\n",
              "\n",
              "  [theme=dark] .colab-df-quickchart {\n",
              "      --bg-color: #3B4455;\n",
              "      --fill-color: #D2E3FC;\n",
              "      --hover-bg-color: #434B5C;\n",
              "      --hover-fill-color: #FFFFFF;\n",
              "      --disabled-bg-color: #3B4455;\n",
              "      --disabled-fill-color: #666;\n",
              "  }\n",
              "\n",
              "  .colab-df-quickchart {\n",
              "    background-color: var(--bg-color);\n",
              "    border: none;\n",
              "    border-radius: 50%;\n",
              "    cursor: pointer;\n",
              "    display: none;\n",
              "    fill: var(--fill-color);\n",
              "    height: 32px;\n",
              "    padding: 0;\n",
              "    width: 32px;\n",
              "  }\n",
              "\n",
              "  .colab-df-quickchart:hover {\n",
              "    background-color: var(--hover-bg-color);\n",
              "    box-shadow: 0 1px 2px rgba(60, 64, 67, 0.3), 0 1px 3px 1px rgba(60, 64, 67, 0.15);\n",
              "    fill: var(--button-hover-fill-color);\n",
              "  }\n",
              "\n",
              "  .colab-df-quickchart-complete:disabled,\n",
              "  .colab-df-quickchart-complete:disabled:hover {\n",
              "    background-color: var(--disabled-bg-color);\n",
              "    fill: var(--disabled-fill-color);\n",
              "    box-shadow: none;\n",
              "  }\n",
              "\n",
              "  .colab-df-spinner {\n",
              "    border: 2px solid var(--fill-color);\n",
              "    border-color: transparent;\n",
              "    border-bottom-color: var(--fill-color);\n",
              "    animation:\n",
              "      spin 1s steps(1) infinite;\n",
              "  }\n",
              "\n",
              "  @keyframes spin {\n",
              "    0% {\n",
              "      border-color: transparent;\n",
              "      border-bottom-color: var(--fill-color);\n",
              "      border-left-color: var(--fill-color);\n",
              "    }\n",
              "    20% {\n",
              "      border-color: transparent;\n",
              "      border-left-color: var(--fill-color);\n",
              "      border-top-color: var(--fill-color);\n",
              "    }\n",
              "    30% {\n",
              "      border-color: transparent;\n",
              "      border-left-color: var(--fill-color);\n",
              "      border-top-color: var(--fill-color);\n",
              "      border-right-color: var(--fill-color);\n",
              "    }\n",
              "    40% {\n",
              "      border-color: transparent;\n",
              "      border-right-color: var(--fill-color);\n",
              "      border-top-color: var(--fill-color);\n",
              "    }\n",
              "    60% {\n",
              "      border-color: transparent;\n",
              "      border-right-color: var(--fill-color);\n",
              "    }\n",
              "    80% {\n",
              "      border-color: transparent;\n",
              "      border-right-color: var(--fill-color);\n",
              "      border-bottom-color: var(--fill-color);\n",
              "    }\n",
              "    90% {\n",
              "      border-color: transparent;\n",
              "      border-bottom-color: var(--fill-color);\n",
              "    }\n",
              "  }\n",
              "</style>\n",
              "\n",
              "  <script>\n",
              "    async function quickchart(key) {\n",
              "      const quickchartButtonEl =\n",
              "        document.querySelector('#' + key + ' button');\n",
              "      quickchartButtonEl.disabled = true;  // To prevent multiple clicks.\n",
              "      quickchartButtonEl.classList.add('colab-df-spinner');\n",
              "      try {\n",
              "        const charts = await google.colab.kernel.invokeFunction(\n",
              "            'suggestCharts', [key], {});\n",
              "      } catch (error) {\n",
              "        console.error('Error during call to suggestCharts:', error);\n",
              "      }\n",
              "      quickchartButtonEl.classList.remove('colab-df-spinner');\n",
              "      quickchartButtonEl.classList.add('colab-df-quickchart-complete');\n",
              "    }\n",
              "    (() => {\n",
              "      let quickchartButtonEl =\n",
              "        document.querySelector('#df-6e2805cd-f062-4543-bb60-f7b1b5a6a34e button');\n",
              "      quickchartButtonEl.style.display =\n",
              "        google.colab.kernel.accessAllowed ? 'block' : 'none';\n",
              "    })();\n",
              "  </script>\n",
              "</div>\n",
              "\n",
              "    </div>\n",
              "  </div>\n"
            ],
            "application/vnd.google.colaboratory.intrinsic+json": {
              "type": "dataframe",
              "variable_name": "kickstarter_2016"
            }
          },
          "metadata": {},
          "execution_count": 16
        }
      ]
    },
    {
      "cell_type": "code",
      "source": [
        "# Save our file (will be saved as UTF-8 by default)\n",
        "kickstarter_2016.to_csv(\"ks-projects201801-utf8.csv\")"
      ],
      "metadata": {
        "id": "qM14OdFYShel"
      },
      "execution_count": null,
      "outputs": []
    },
    {
      "cell_type": "code",
      "source": [],
      "metadata": {
        "id": "7WnXibjMVzhq"
      },
      "execution_count": null,
      "outputs": []
    }
  ]
}